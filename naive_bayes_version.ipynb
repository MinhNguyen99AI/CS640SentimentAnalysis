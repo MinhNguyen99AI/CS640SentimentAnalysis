{
 "cells": [
  {
   "cell_type": "code",
   "execution_count": 1,
   "id": "b60bb86e-26d2-43d3-862b-5cba5120a879",
   "metadata": {},
   "outputs": [],
   "source": [
    "import pandas as pd\n",
    "twitter = pd.read_csv(\"training.1600000.processed.noemoticon.csv\", encoding = 'latin1', header=None)"
   ]
  },
  {
   "cell_type": "code",
   "execution_count": 3,
   "id": "06d1a52a-0fc0-4d6c-80d3-96264b6beb70",
   "metadata": {},
   "outputs": [
    {
     "data": {
      "text/html": [
       "<div>\n",
       "<style scoped>\n",
       "    .dataframe tbody tr th:only-of-type {\n",
       "        vertical-align: middle;\n",
       "    }\n",
       "\n",
       "    .dataframe tbody tr th {\n",
       "        vertical-align: top;\n",
       "    }\n",
       "\n",
       "    .dataframe thead th {\n",
       "        text-align: right;\n",
       "    }\n",
       "</style>\n",
       "<table border=\"1\" class=\"dataframe\">\n",
       "  <thead>\n",
       "    <tr style=\"text-align: right;\">\n",
       "      <th></th>\n",
       "      <th>0</th>\n",
       "      <th>5</th>\n",
       "    </tr>\n",
       "  </thead>\n",
       "  <tbody>\n",
       "    <tr>\n",
       "      <th>0</th>\n",
       "      <td>0</td>\n",
       "      <td>Awww, thats a bummer.  You shoulda got Davi...</td>\n",
       "    </tr>\n",
       "    <tr>\n",
       "      <th>1</th>\n",
       "      <td>0</td>\n",
       "      <td>is upset that he cant update his Facebook by t...</td>\n",
       "    </tr>\n",
       "    <tr>\n",
       "      <th>2</th>\n",
       "      <td>0</td>\n",
       "      <td>I dived many times for the ball. Managed to s...</td>\n",
       "    </tr>\n",
       "    <tr>\n",
       "      <th>3</th>\n",
       "      <td>0</td>\n",
       "      <td>my whole body feels itchy and like its on fire</td>\n",
       "    </tr>\n",
       "    <tr>\n",
       "      <th>4</th>\n",
       "      <td>0</td>\n",
       "      <td>no, its not behaving at all. im mad. why am i...</td>\n",
       "    </tr>\n",
       "    <tr>\n",
       "      <th>...</th>\n",
       "      <td>...</td>\n",
       "      <td>...</td>\n",
       "    </tr>\n",
       "    <tr>\n",
       "      <th>1599995</th>\n",
       "      <td>1</td>\n",
       "      <td>Just woke up. Having no school is the best fee...</td>\n",
       "    </tr>\n",
       "    <tr>\n",
       "      <th>1599996</th>\n",
       "      <td>1</td>\n",
       "      <td>TheWDB.com  Very cool to hear old Walt intervi...</td>\n",
       "    </tr>\n",
       "    <tr>\n",
       "      <th>1599997</th>\n",
       "      <td>1</td>\n",
       "      <td>Are you ready for your MoJo Makeover? Ask me f...</td>\n",
       "    </tr>\n",
       "    <tr>\n",
       "      <th>1599998</th>\n",
       "      <td>1</td>\n",
       "      <td>Happy 38th Birthday to my boo of alll time!!! ...</td>\n",
       "    </tr>\n",
       "    <tr>\n",
       "      <th>1599999</th>\n",
       "      <td>1</td>\n",
       "      <td>happy #charitytuesday</td>\n",
       "    </tr>\n",
       "  </tbody>\n",
       "</table>\n",
       "<p>1600000 rows × 2 columns</p>\n",
       "</div>"
      ],
      "text/plain": [
       "         0                                                  5\n",
       "0        0     Awww, thats a bummer.  You shoulda got Davi...\n",
       "1        0  is upset that he cant update his Facebook by t...\n",
       "2        0   I dived many times for the ball. Managed to s...\n",
       "3        0    my whole body feels itchy and like its on fire \n",
       "4        0   no, its not behaving at all. im mad. why am i...\n",
       "...     ..                                                ...\n",
       "1599995  1  Just woke up. Having no school is the best fee...\n",
       "1599996  1  TheWDB.com  Very cool to hear old Walt intervi...\n",
       "1599997  1  Are you ready for your MoJo Makeover? Ask me f...\n",
       "1599998  1  Happy 38th Birthday to my boo of alll time!!! ...\n",
       "1599999  1                          happy #charitytuesday    \n",
       "\n",
       "[1600000 rows x 2 columns]"
      ]
     },
     "execution_count": 3,
     "metadata": {},
     "output_type": "execute_result"
    }
   ],
   "source": [
    "import re\n",
    "regexMap={r\"<[\\w'/'\\s]*>\": \"\",r\"[\\'\\\"\\-]+\": \"\",r\"@[\\w]+\":\"\",r\"http\\S+\" : \"\"}\n",
    "def preprocess(datainput):\n",
    "    t=datainput\n",
    "    for regx in regexMap.keys():\n",
    "        t = re.sub(regx, regexMap[regx], t)\n",
    "    return t\n",
    "\n",
    "def labelFilter(label):\n",
    "    if label == 4:\n",
    "        return 1\n",
    "    return label\n",
    "\n",
    "twitter=twitter[[0,5]]\n",
    "twitter[5]=twitter[5].apply(preprocess)\n",
    "twitter[0] = twitter[0].apply(labelFilter)\n",
    "twitter"
   ]
  },
  {
   "cell_type": "code",
   "execution_count": 4,
   "id": "53c58971-871b-4c93-b76d-c3e2e1b802e8",
   "metadata": {},
   "outputs": [],
   "source": [
    "training_dataset=twitter.sample(frac=0.7)\n",
    "test_dataset=twitter.drop(training_dataset.index)"
   ]
  },
  {
   "cell_type": "code",
   "execution_count": 7,
   "id": "b167ca71-2d51-47ba-b573-9906ce6abda1",
   "metadata": {},
   "outputs": [
    {
     "name": "stdout",
     "output_type": "stream",
     "text": [
      "1120000\n",
      "480000\n"
     ]
    }
   ],
   "source": [
    "print(len(training_dataset))\n",
    "print(len(test_dataset))"
   ]
  },
  {
   "cell_type": "code",
   "execution_count": 10,
   "id": "7696fa5a-3db3-4e6f-9a66-203b708a50af",
   "metadata": {},
   "outputs": [
    {
     "data": {
      "text/plain": [
       "CountVectorizer()"
      ]
     },
     "execution_count": 10,
     "metadata": {},
     "output_type": "execute_result"
    }
   ],
   "source": [
    "from sklearn.feature_extraction.text import CountVectorizer\n",
    "vectorizer = CountVectorizer()\n",
    "vectorizer.fit(training_dataset[5].values)"
   ]
  },
  {
   "cell_type": "code",
   "execution_count": 12,
   "id": "941f62dc-2b60-4572-8c03-9b40324f7d06",
   "metadata": {},
   "outputs": [
    {
     "data": {
      "text/plain": [
       "CountVectorizer(stop_words='english')"
      ]
     },
     "execution_count": 12,
     "metadata": {},
     "output_type": "execute_result"
    }
   ],
   "source": [
    "stop_words_vectorizer=CountVectorizer(stop_words='english')\n",
    "stop_words_vectorizer.fit(training_dataset[5].values)"
   ]
  },
  {
   "cell_type": "code",
   "execution_count": 14,
   "id": "83659f90-d1c1-491b-97ed-a323247f813b",
   "metadata": {},
   "outputs": [],
   "source": [
    "x_input=stop_words_vectorizer.transform(training_dataset[5].values)\n",
    "x_test_input=stop_words_vectorizer.transform(test_dataset[5].values)"
   ]
  },
  {
   "cell_type": "code",
   "execution_count": 17,
   "id": "d98cf274-f540-47de-aad6-b9ca8712b425",
   "metadata": {},
   "outputs": [
    {
     "data": {
      "text/plain": [
       "MultinomialNB()"
      ]
     },
     "execution_count": 17,
     "metadata": {},
     "output_type": "execute_result"
    }
   ],
   "source": [
    "from sklearn.naive_bayes import MultinomialNB\n",
    "nb = MultinomialNB()\n",
    "nb.fit(x_input,training_dataset[0])"
   ]
  },
  {
   "cell_type": "code",
   "execution_count": 18,
   "id": "208cd904-50ec-4960-8812-3e345d659e50",
   "metadata": {},
   "outputs": [
    {
     "data": {
      "text/plain": [
       "0.7657916666666666"
      ]
     },
     "execution_count": 18,
     "metadata": {},
     "output_type": "execute_result"
    }
   ],
   "source": [
    "from sklearn import metrics\n",
    "y_pred_class = nb.predict(x_test_input)\n",
    "metrics.accuracy_score(test_dataset[0].values, y_pred_class)"
   ]
  }
 ],
 "metadata": {
  "kernelspec": {
   "display_name": "Python 3 (ipykernel)",
   "language": "python",
   "name": "python3"
  },
  "language_info": {
   "codemirror_mode": {
    "name": "ipython",
    "version": 3
   },
   "file_extension": ".py",
   "mimetype": "text/x-python",
   "name": "python",
   "nbconvert_exporter": "python",
   "pygments_lexer": "ipython3",
   "version": "3.8.11"
  }
 },
 "nbformat": 4,
 "nbformat_minor": 5
}

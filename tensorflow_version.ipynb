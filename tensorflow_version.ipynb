{
 "cells": [
  {
   "cell_type": "code",
   "execution_count": 26,
   "metadata": {
    "id": "YFfqYJE9rIov"
   },
   "outputs": [],
   "source": [
    "import pandas as pd\n",
    "twitter = pd.read_csv(\"training.1600000.processed.noemoticon.csv\", encoding = 'latin1', header=None)\n",
    "twitter = twitter.sample(n = 75000)"
   ]
  },
  {
   "cell_type": "code",
   "execution_count": 27,
   "metadata": {
    "colab": {
     "base_uri": "https://localhost:8080/",
     "height": 423
    },
    "id": "iOzZpFGVrX_U",
    "outputId": "6e865000-3920-4a33-ac99-e352fab02833"
   },
   "outputs": [
    {
     "data": {
      "text/html": [
       "<div>\n",
       "<style scoped>\n",
       "    .dataframe tbody tr th:only-of-type {\n",
       "        vertical-align: middle;\n",
       "    }\n",
       "\n",
       "    .dataframe tbody tr th {\n",
       "        vertical-align: top;\n",
       "    }\n",
       "\n",
       "    .dataframe thead th {\n",
       "        text-align: right;\n",
       "    }\n",
       "</style>\n",
       "<table border=\"1\" class=\"dataframe\">\n",
       "  <thead>\n",
       "    <tr style=\"text-align: right;\">\n",
       "      <th></th>\n",
       "      <th>0</th>\n",
       "      <th>5</th>\n",
       "    </tr>\n",
       "  </thead>\n",
       "  <tbody>\n",
       "    <tr>\n",
       "      <th>998868</th>\n",
       "      <td>1</td>\n",
       "      <td>good luck. I hope you found some companies on...</td>\n",
       "    </tr>\n",
       "    <tr>\n",
       "      <th>1098527</th>\n",
       "      <td>1</td>\n",
       "      <td>new haircut agaiin woohooo  its sooo warm time...</td>\n",
       "    </tr>\n",
       "    <tr>\n",
       "      <th>41787</th>\n",
       "      <td>0</td>\n",
       "      <td>just wants to get some sleep...but I cant caus...</td>\n",
       "    </tr>\n",
       "    <tr>\n",
       "      <th>415282</th>\n",
       "      <td>0</td>\n",
       "      <td>Watching a scary movie</td>\n",
       "    </tr>\n",
       "    <tr>\n",
       "      <th>1501095</th>\n",
       "      <td>1</td>\n",
       "      <td>i was in sigma delta tau</td>\n",
       "    </tr>\n",
       "    <tr>\n",
       "      <th>...</th>\n",
       "      <td>...</td>\n",
       "      <td>...</td>\n",
       "    </tr>\n",
       "    <tr>\n",
       "      <th>676555</th>\n",
       "      <td>0</td>\n",
       "      <td>Yeah.  Ima delete it and redownload when I get...</td>\n",
       "    </tr>\n",
       "    <tr>\n",
       "      <th>1581392</th>\n",
       "      <td>1</td>\n",
       "      <td>Is waiting for Marcel and Choles choice of Wed...</td>\n",
       "    </tr>\n",
       "    <tr>\n",
       "      <th>351580</th>\n",
       "      <td>0</td>\n",
       "      <td>wish I knew as much as I thought I did</td>\n",
       "    </tr>\n",
       "    <tr>\n",
       "      <th>266613</th>\n",
       "      <td>0</td>\n",
       "      <td>i miss you sister! &amp;lt;3 i eat this young coc...</td>\n",
       "    </tr>\n",
       "    <tr>\n",
       "      <th>1572136</th>\n",
       "      <td>1</td>\n",
       "      <td>shapes; flavours of the world = best food EVER</td>\n",
       "    </tr>\n",
       "  </tbody>\n",
       "</table>\n",
       "<p>75000 rows × 2 columns</p>\n",
       "</div>"
      ],
      "text/plain": [
       "         0                                                  5\n",
       "998868   1   good luck. I hope you found some companies on...\n",
       "1098527  1  new haircut agaiin woohooo  its sooo warm time...\n",
       "41787    0  just wants to get some sleep...but I cant caus...\n",
       "415282   0                            Watching a scary movie \n",
       "1501095  1                          i was in sigma delta tau \n",
       "...     ..                                                ...\n",
       "676555   0  Yeah.  Ima delete it and redownload when I get...\n",
       "1581392  1  Is waiting for Marcel and Choles choice of Wed...\n",
       "351580   0            wish I knew as much as I thought I did \n",
       "266613   0   i miss you sister! &lt;3 i eat this young coc...\n",
       "1572136  1    shapes; flavours of the world = best food EVER \n",
       "\n",
       "[75000 rows x 2 columns]"
      ]
     },
     "execution_count": 27,
     "metadata": {},
     "output_type": "execute_result"
    }
   ],
   "source": [
    "import re\n",
    "regexMap={r\"<[\\w'/'\\s]*>\": \"\",r\"[\\'\\\"\\-]+\": \"\",r\"@[\\w]+\":\"\",r\"http\\S+\" : \"\"}\n",
    "def preprocess(datainput):\n",
    "    t=datainput\n",
    "    for regx in regexMap.keys():\n",
    "        t = re.sub(regx, regexMap[regx], t)\n",
    "    return t\n",
    "\n",
    "def labelFilter(label):\n",
    "  if label == 4:\n",
    "    return 1\n",
    "  return label\n",
    "\n",
    "twitter=twitter[[0,5]]\n",
    "twitter[5]=twitter[5].apply(preprocess)\n",
    "twitter[0] = twitter[0].apply(labelFilter)\n",
    "twitter"
   ]
  },
  {
   "cell_type": "code",
   "execution_count": 3,
   "metadata": {
    "colab": {
     "base_uri": "https://localhost:8080/"
    },
    "id": "CVw7UunTyl38",
    "outputId": "66f80ddd-d44c-4108-9d43-e83aa742bf07"
   },
   "outputs": [
    {
     "name": "stdout",
     "output_type": "stream",
     "text": [
      "Collecting tensorflow_text\n",
      "  Using cached tensorflow_text-2.7.3-cp38-cp38-win_amd64.whl (2.5 MB)\n",
      "Requirement already satisfied: tensorflow-hub>=0.8.0 in c:\\users\\nick\\anaconda3\\lib\\site-packages (from tensorflow_text) (0.12.0)\n",
      "Requirement already satisfied: tensorflow<2.8,>=2.7.0 in c:\\users\\nick\\anaconda3\\lib\\site-packages (from tensorflow_text) (2.7.0)\n",
      "Requirement already satisfied: grpcio<2.0,>=1.24.3 in c:\\users\\nick\\anaconda3\\lib\\site-packages (from tensorflow<2.8,>=2.7.0->tensorflow_text) (1.34.1)\n",
      "Requirement already satisfied: wrapt>=1.11.0 in c:\\users\\nick\\appdata\\roaming\\python\\python38\\site-packages (from tensorflow<2.8,>=2.7.0->tensorflow_text) (1.12.1)\n",
      "Requirement already satisfied: numpy>=1.14.5 in c:\\users\\nick\\anaconda3\\lib\\site-packages (from tensorflow<2.8,>=2.7.0->tensorflow_text) (1.19.5)\n",
      "Requirement already satisfied: typing-extensions>=3.6.6 in c:\\users\\nick\\anaconda3\\lib\\site-packages (from tensorflow<2.8,>=2.7.0->tensorflow_text) (3.7.4.3)\n",
      "Requirement already satisfied: wheel<1.0,>=0.32.0 in c:\\users\\nick\\anaconda3\\lib\\site-packages (from tensorflow<2.8,>=2.7.0->tensorflow_text) (0.37.0)\n",
      "Requirement already satisfied: tensorflow-io-gcs-filesystem>=0.21.0 in c:\\users\\nick\\anaconda3\\lib\\site-packages (from tensorflow<2.8,>=2.7.0->tensorflow_text) (0.22.0)\n",
      "Requirement already satisfied: keras-preprocessing>=1.1.1 in c:\\users\\nick\\anaconda3\\lib\\site-packages (from tensorflow<2.8,>=2.7.0->tensorflow_text) (1.1.2)\n",
      "Requirement already satisfied: tensorflow-estimator<2.8,~=2.7.0rc0 in c:\\users\\nick\\anaconda3\\lib\\site-packages (from tensorflow<2.8,>=2.7.0->tensorflow_text) (2.7.0)\n",
      "Requirement already satisfied: libclang>=9.0.1 in c:\\users\\nick\\anaconda3\\lib\\site-packages (from tensorflow<2.8,>=2.7.0->tensorflow_text) (12.0.0)\n",
      "Requirement already satisfied: opt-einsum>=2.3.2 in c:\\users\\nick\\anaconda3\\lib\\site-packages (from tensorflow<2.8,>=2.7.0->tensorflow_text) (3.3.0)\n",
      "Requirement already satisfied: protobuf>=3.9.2 in c:\\users\\nick\\anaconda3\\lib\\site-packages (from tensorflow<2.8,>=2.7.0->tensorflow_text) (3.18.1)\n",
      "Requirement already satisfied: keras<2.8,>=2.7.0rc0 in c:\\users\\nick\\anaconda3\\lib\\site-packages (from tensorflow<2.8,>=2.7.0->tensorflow_text) (2.7.0)\n",
      "Requirement already satisfied: google-pasta>=0.1.1 in c:\\users\\nick\\anaconda3\\lib\\site-packages (from tensorflow<2.8,>=2.7.0->tensorflow_text) (0.2.0)\n",
      "Requirement already satisfied: absl-py>=0.4.0 in c:\\users\\nick\\anaconda3\\lib\\site-packages (from tensorflow<2.8,>=2.7.0->tensorflow_text) (0.14.1)\n",
      "Requirement already satisfied: termcolor>=1.1.0 in c:\\users\\nick\\anaconda3\\lib\\site-packages (from tensorflow<2.8,>=2.7.0->tensorflow_text) (1.1.0)\n",
      "Requirement already satisfied: h5py>=2.9.0 in c:\\users\\nick\\anaconda3\\lib\\site-packages (from tensorflow<2.8,>=2.7.0->tensorflow_text) (3.1.0)\n",
      "Requirement already satisfied: flatbuffers<3.0,>=1.12 in c:\\users\\nick\\anaconda3\\lib\\site-packages (from tensorflow<2.8,>=2.7.0->tensorflow_text) (1.12)\n",
      "Requirement already satisfied: astunparse>=1.6.0 in c:\\users\\nick\\anaconda3\\lib\\site-packages (from tensorflow<2.8,>=2.7.0->tensorflow_text) (1.6.3)\n",
      "Requirement already satisfied: six>=1.12.0 in c:\\users\\nick\\appdata\\roaming\\python\\python38\\site-packages (from tensorflow<2.8,>=2.7.0->tensorflow_text) (1.15.0)\n",
      "Requirement already satisfied: tensorboard~=2.6 in c:\\users\\nick\\anaconda3\\lib\\site-packages (from tensorflow<2.8,>=2.7.0->tensorflow_text) (2.7.0)\n",
      "Requirement already satisfied: gast<0.5.0,>=0.2.1 in c:\\users\\nick\\anaconda3\\lib\\site-packages (from tensorflow<2.8,>=2.7.0->tensorflow_text) (0.4.0)\n",
      "Requirement already satisfied: requests<3,>=2.21.0 in c:\\users\\nick\\anaconda3\\lib\\site-packages (from tensorboard~=2.6->tensorflow<2.8,>=2.7.0->tensorflow_text) (2.26.0)\n",
      "Requirement already satisfied: setuptools>=41.0.0 in c:\\users\\nick\\anaconda3\\lib\\site-packages (from tensorboard~=2.6->tensorflow<2.8,>=2.7.0->tensorflow_text) (58.0.4)\n",
      "Requirement already satisfied: tensorboard-data-server<0.7.0,>=0.6.0 in c:\\users\\nick\\anaconda3\\lib\\site-packages (from tensorboard~=2.6->tensorflow<2.8,>=2.7.0->tensorflow_text) (0.6.1)\n",
      "Requirement already satisfied: werkzeug>=0.11.15 in c:\\users\\nick\\anaconda3\\lib\\site-packages (from tensorboard~=2.6->tensorflow<2.8,>=2.7.0->tensorflow_text) (2.0.1)\n",
      "Requirement already satisfied: tensorboard-plugin-wit>=1.6.0 in c:\\users\\nick\\anaconda3\\lib\\site-packages (from tensorboard~=2.6->tensorflow<2.8,>=2.7.0->tensorflow_text) (1.8.0)\n",
      "Requirement already satisfied: google-auth-oauthlib<0.5,>=0.4.1 in c:\\users\\nick\\anaconda3\\lib\\site-packages (from tensorboard~=2.6->tensorflow<2.8,>=2.7.0->tensorflow_text) (0.4.6)\n",
      "Requirement already satisfied: markdown>=2.6.8 in c:\\users\\nick\\anaconda3\\lib\\site-packages (from tensorboard~=2.6->tensorflow<2.8,>=2.7.0->tensorflow_text) (3.3.4)\n",
      "Requirement already satisfied: google-auth<3,>=1.6.3 in c:\\users\\nick\\anaconda3\\lib\\site-packages (from tensorboard~=2.6->tensorflow<2.8,>=2.7.0->tensorflow_text) (2.3.0)\n",
      "Requirement already satisfied: pyasn1-modules>=0.2.1 in c:\\users\\nick\\anaconda3\\lib\\site-packages (from google-auth<3,>=1.6.3->tensorboard~=2.6->tensorflow<2.8,>=2.7.0->tensorflow_text) (0.2.8)\n",
      "Requirement already satisfied: rsa<5,>=3.1.4 in c:\\users\\nick\\anaconda3\\lib\\site-packages (from google-auth<3,>=1.6.3->tensorboard~=2.6->tensorflow<2.8,>=2.7.0->tensorflow_text) (4.7.2)\n",
      "Requirement already satisfied: cachetools<5.0,>=2.0.0 in c:\\users\\nick\\anaconda3\\lib\\site-packages (from google-auth<3,>=1.6.3->tensorboard~=2.6->tensorflow<2.8,>=2.7.0->tensorflow_text) (4.2.4)\n",
      "Requirement already satisfied: requests-oauthlib>=0.7.0 in c:\\users\\nick\\anaconda3\\lib\\site-packages (from google-auth-oauthlib<0.5,>=0.4.1->tensorboard~=2.6->tensorflow<2.8,>=2.7.0->tensorflow_text) (1.3.0)\n",
      "Requirement already satisfied: pyasn1<0.5.0,>=0.4.6 in c:\\users\\nick\\anaconda3\\lib\\site-packages (from pyasn1-modules>=0.2.1->google-auth<3,>=1.6.3->tensorboard~=2.6->tensorflow<2.8,>=2.7.0->tensorflow_text) (0.4.8)\n",
      "Requirement already satisfied: charset-normalizer~=2.0.0 in c:\\users\\nick\\anaconda3\\lib\\site-packages (from requests<3,>=2.21.0->tensorboard~=2.6->tensorflow<2.8,>=2.7.0->tensorflow_text) (2.0.4)\n",
      "Requirement already satisfied: certifi>=2017.4.17 in c:\\users\\nick\\anaconda3\\lib\\site-packages (from requests<3,>=2.21.0->tensorboard~=2.6->tensorflow<2.8,>=2.7.0->tensorflow_text) (2021.5.30)\n",
      "Requirement already satisfied: urllib3<1.27,>=1.21.1 in c:\\users\\nick\\anaconda3\\lib\\site-packages (from requests<3,>=2.21.0->tensorboard~=2.6->tensorflow<2.8,>=2.7.0->tensorflow_text) (1.26.6)\n",
      "Requirement already satisfied: idna<4,>=2.5 in c:\\users\\nick\\anaconda3\\lib\\site-packages (from requests<3,>=2.21.0->tensorboard~=2.6->tensorflow<2.8,>=2.7.0->tensorflow_text) (3.2)\n",
      "Requirement already satisfied: oauthlib>=3.0.0 in c:\\users\\nick\\anaconda3\\lib\\site-packages (from requests-oauthlib>=0.7.0->google-auth-oauthlib<0.5,>=0.4.1->tensorboard~=2.6->tensorflow<2.8,>=2.7.0->tensorflow_text) (3.1.1)\n",
      "Installing collected packages: tensorflow-text\n",
      "Successfully installed tensorflow-text-2.7.3\n"
     ]
    }
   ],
   "source": [
    "!pip install tensorflow_text\n",
    "import tensorflow as tf\n",
    "import tensorflow.keras as keras\n",
    "import tensorflow_hub as hub\n",
    "import tensorflow_text as text"
   ]
  },
  {
   "cell_type": "code",
   "execution_count": 4,
   "metadata": {
    "colab": {
     "base_uri": "https://localhost:8080/"
    },
    "id": "hdkVHVZj8ItP",
    "outputId": "bcfbec2a-2b81-4563-d7dd-d40e2e830582"
   },
   "outputs": [
    {
     "data": {
      "text/plain": [
       "<tf.Tensor: shape=(2, 768), dtype=float32, numpy=\n",
       "array([[-9.1058302e-01, -3.5070494e-01, -3.2318407e-01, ...,\n",
       "        -4.5425259e-05, -7.1246165e-01,  9.1118795e-01],\n",
       "       [-8.1203628e-01, -2.2017553e-01,  3.5842058e-01, ...,\n",
       "         4.2030022e-01, -5.8162069e-01,  8.2115519e-01]], dtype=float32)>"
      ]
     },
     "execution_count": 4,
     "metadata": {},
     "output_type": "execute_result"
    }
   ],
   "source": [
    "bert_preprocess = hub.KerasLayer(\"https://tfhub.dev/tensorflow/bert_en_uncased_preprocess/3\")\n",
    "bert_encoder = hub.KerasLayer(\"https://tfhub.dev/tensorflow/bert_en_uncased_L-12_H-768_A-12/4\")\n",
    "\n",
    "sentences = [\"I love you\", \"I hate you\"]\n",
    "preprocessed_text = bert_preprocess(sentences)\n",
    "bert_encoder(preprocessed_text)[\"pooled_output\"]"
   ]
  },
  {
   "cell_type": "code",
   "execution_count": 28,
   "metadata": {
    "id": "gg2_G73yydI5"
   },
   "outputs": [],
   "source": [
    "data, labels = twitter[5], twitter[0]\n",
    "\n",
    "example_data, example_labels = data[:50], labels[:50]"
   ]
  },
  {
   "cell_type": "code",
   "execution_count": 8,
   "metadata": {
    "colab": {
     "base_uri": "https://localhost:8080/"
    },
    "id": "vxizb4h--yOd",
    "outputId": "2d01dbf7-e048-4fff-e056-252024b0a788"
   },
   "outputs": [
    {
     "name": "stdout",
     "output_type": "stream",
     "text": [
      "Model: \"model_1\"\n",
      "__________________________________________________________________________________________________\n",
      " Layer (type)                   Output Shape         Param #     Connected to                     \n",
      "==================================================================================================\n",
      " input_2 (InputLayer)           [(None,)]            0           []                               \n",
      "                                                                                                  \n",
      " keras_layer (KerasLayer)       {'input_mask': (Non  0           ['input_2[0][0]']                \n",
      "                                e, 128),                                                          \n",
      "                                 'input_type_ids':                                                \n",
      "                                (None, 128),                                                      \n",
      "                                 'input_word_ids':                                                \n",
      "                                (None, 128)}                                                      \n",
      "                                                                                                  \n",
      " keras_layer_1 (KerasLayer)     {'sequence_output':  109482241   ['keras_layer[1][0]',            \n",
      "                                 (None, 128, 768),                'keras_layer[1][1]',            \n",
      "                                 'encoder_outputs':               'keras_layer[1][2]']            \n",
      "                                 [(None, 128, 768),                                               \n",
      "                                 (None, 128, 768),                                                \n",
      "                                 (None, 128, 768),                                                \n",
      "                                 (None, 128, 768),                                                \n",
      "                                 (None, 128, 768),                                                \n",
      "                                 (None, 128, 768),                                                \n",
      "                                 (None, 128, 768),                                                \n",
      "                                 (None, 128, 768),                                                \n",
      "                                 (None, 128, 768),                                                \n",
      "                                 (None, 128, 768),                                                \n",
      "                                 (None, 128, 768),                                                \n",
      "                                 (None, 128, 768)],                                               \n",
      "                                 'default': (None,                                                \n",
      "                                768),                                                             \n",
      "                                 'pooled_output': (                                               \n",
      "                                None, 768)}                                                       \n",
      "                                                                                                  \n",
      " dense_1 (Dense)                (None, 1)            769         ['keras_layer_1[1][13]']         \n",
      "                                                                                                  \n",
      "==================================================================================================\n",
      "Total params: 109,483,010\n",
      "Trainable params: 769\n",
      "Non-trainable params: 109,482,241\n",
      "__________________________________________________________________________________________________\n",
      "Epoch 1/2\n",
      "2/2 [==============================] - 9s 2s/step - loss: 0.8437 - accuracy: 0.1800\n",
      "Epoch 2/2\n",
      "2/2 [==============================] - 6s 2s/step - loss: 0.4745 - accuracy: 0.9800\n"
     ]
    },
    {
     "data": {
      "text/plain": [
       "<keras.callbacks.History at 0x203638f0430>"
      ]
     },
     "execution_count": 8,
     "metadata": {},
     "output_type": "execute_result"
    }
   ],
   "source": [
    "text_input = keras.layers.Input(shape=(), dtype=tf.string)\n",
    "preprocessed_text = bert_preprocess(text_input)\n",
    "outputs = bert_encoder(preprocessed_text)\n",
    "\n",
    "dense = keras.layers.Dense(1, activation='sigmoid')(outputs[\"pooled_output\"])\n",
    "\n",
    "model = keras.Model(inputs=[text_input], outputs=[dense])\n",
    "model.summary()\n",
    "model.compile(optimizer='adam', loss = 'binary_crossentropy', metrics = ['accuracy'])\n",
    "model.fit(example_data, example_labels, epochs=2)"
   ]
  },
  {
   "cell_type": "code",
   "execution_count": 10,
   "metadata": {},
   "outputs": [],
   "source": [
    "test = pd.read_csv(\"testdata.manual.2009.06.14.csv\", encoding=\"latin1\", header=None)"
   ]
  },
  {
   "cell_type": "code",
   "execution_count": 16,
   "metadata": {},
   "outputs": [],
   "source": [
    "test = test[[0,5]]\n",
    "test[5]=test[5].apply(preprocess)\n",
    "test[0] = test[0].apply(labelFilter)\n",
    "test = test[test[0] != 2]\n",
    "\n",
    "test_data, test_labels = test[5], test[0]"
   ]
  },
  {
   "cell_type": "code",
   "execution_count": null,
   "metadata": {},
   "outputs": [],
   "source": [
    "import numpy as np\n",
    "y_pred = np.where(model.predict(test_data) > .5, 1, 0)"
   ]
  },
  {
   "cell_type": "code",
   "execution_count": 32,
   "metadata": {},
   "outputs": [
    {
     "name": "stdout",
     "output_type": "stream",
     "text": [
      "              precision    recall  f1-score   support\n",
      "\n",
      "           0       0.49      1.00      0.66       177\n",
      "           1       0.00      0.00      0.00       182\n",
      "\n",
      "    accuracy                           0.49       359\n",
      "   macro avg       0.25      0.50      0.33       359\n",
      "weighted avg       0.24      0.49      0.33       359\n",
      "\n"
     ]
    },
    {
     "name": "stderr",
     "output_type": "stream",
     "text": [
      "C:\\Users\\Nick\\anaconda3\\lib\\site-packages\\sklearn\\metrics\\_classification.py:1248: UndefinedMetricWarning: Precision and F-score are ill-defined and being set to 0.0 in labels with no predicted samples. Use `zero_division` parameter to control this behavior.\n",
      "  _warn_prf(average, modifier, msg_start, len(result))\n",
      "C:\\Users\\Nick\\anaconda3\\lib\\site-packages\\sklearn\\metrics\\_classification.py:1248: UndefinedMetricWarning: Precision and F-score are ill-defined and being set to 0.0 in labels with no predicted samples. Use `zero_division` parameter to control this behavior.\n",
      "  _warn_prf(average, modifier, msg_start, len(result))\n",
      "C:\\Users\\Nick\\anaconda3\\lib\\site-packages\\sklearn\\metrics\\_classification.py:1248: UndefinedMetricWarning: Precision and F-score are ill-defined and being set to 0.0 in labels with no predicted samples. Use `zero_division` parameter to control this behavior.\n",
      "  _warn_prf(average, modifier, msg_start, len(result))\n"
     ]
    }
   ],
   "source": [
    "from sklearn.metrics import classification_report\n",
    "print(classification_report(test_labels, y_pred))\n"
   ]
  }
 ],
 "metadata": {
  "accelerator": "GPU",
  "colab": {
   "collapsed_sections": [],
   "name": "640_tensorflow.ipynb",
   "provenance": []
  },
  "kernelspec": {
   "display_name": "Python 3 (ipykernel)",
   "language": "python",
   "name": "python3"
  },
  "language_info": {
   "codemirror_mode": {
    "name": "ipython",
    "version": 3
   },
   "file_extension": ".py",
   "mimetype": "text/x-python",
   "name": "python",
   "nbconvert_exporter": "python",
   "pygments_lexer": "ipython3",
   "version": "3.8.11"
  }
 },
 "nbformat": 4,
 "nbformat_minor": 4
}

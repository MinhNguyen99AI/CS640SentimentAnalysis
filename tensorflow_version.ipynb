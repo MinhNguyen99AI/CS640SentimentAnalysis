{
 "cells": [
  {
   "cell_type": "code",
   "execution_count": 12,
   "metadata": {
    "id": "YFfqYJE9rIov"
   },
   "outputs": [],
   "source": [
    "import pandas as pd\n",
    "twitter = pd.read_csv(\"training.1600000.processed.noemoticon.csv\", encoding = 'latin1', header=None)\n",
    "twitter = twitter.sample(n = 75000)"
   ]
  },
  {
   "cell_type": "code",
   "execution_count": 13,
   "metadata": {
    "colab": {
     "base_uri": "https://localhost:8080/",
     "height": 423
    },
    "id": "iOzZpFGVrX_U",
    "outputId": "6e865000-3920-4a33-ac99-e352fab02833"
   },
   "outputs": [
    {
     "data": {
      "text/html": [
       "<div>\n",
       "<style scoped>\n",
       "    .dataframe tbody tr th:only-of-type {\n",
       "        vertical-align: middle;\n",
       "    }\n",
       "\n",
       "    .dataframe tbody tr th {\n",
       "        vertical-align: top;\n",
       "    }\n",
       "\n",
       "    .dataframe thead th {\n",
       "        text-align: right;\n",
       "    }\n",
       "</style>\n",
       "<table border=\"1\" class=\"dataframe\">\n",
       "  <thead>\n",
       "    <tr style=\"text-align: right;\">\n",
       "      <th></th>\n",
       "      <th>0</th>\n",
       "      <th>5</th>\n",
       "    </tr>\n",
       "  </thead>\n",
       "  <tbody>\n",
       "    <tr>\n",
       "      <th>582113</th>\n",
       "      <td>0</td>\n",
       "      <td>iPod Touch OS 3 upgrade doesnt available in In...</td>\n",
       "    </tr>\n",
       "    <tr>\n",
       "      <th>556953</th>\n",
       "      <td>0</td>\n",
       "      <td>No I just checked as to its whereabouts and i...</td>\n",
       "    </tr>\n",
       "    <tr>\n",
       "      <th>172345</th>\n",
       "      <td>0</td>\n",
       "      <td>when do the stars come out??</td>\n",
       "    </tr>\n",
       "    <tr>\n",
       "      <th>36051</th>\n",
       "      <td>0</td>\n",
       "      <td>Ugh. Monday</td>\n",
       "    </tr>\n",
       "    <tr>\n",
       "      <th>1460585</th>\n",
       "      <td>1</td>\n",
       "      <td>Sounds beautiful!  Im just getting up.. so fa...</td>\n",
       "    </tr>\n",
       "    <tr>\n",
       "      <th>...</th>\n",
       "      <td>...</td>\n",
       "      <td>...</td>\n",
       "    </tr>\n",
       "    <tr>\n",
       "      <th>474425</th>\n",
       "      <td>0</td>\n",
       "      <td>good mornin twitter peps. oh, how i dread mond...</td>\n",
       "    </tr>\n",
       "    <tr>\n",
       "      <th>1093122</th>\n",
       "      <td>1</td>\n",
       "      <td>Im officially stating that rage sucks my butth...</td>\n",
       "    </tr>\n",
       "    <tr>\n",
       "      <th>323289</th>\n",
       "      <td>0</td>\n",
       "      <td>no  i couldnt even go to youth group that night</td>\n",
       "    </tr>\n",
       "    <tr>\n",
       "      <th>296209</th>\n",
       "      <td>0</td>\n",
       "      <td>nope, it didnt work</td>\n",
       "    </tr>\n",
       "    <tr>\n",
       "      <th>135036</th>\n",
       "      <td>0</td>\n",
       "      <td>hui, twittercounter.com ist down  Hoffe, die s...</td>\n",
       "    </tr>\n",
       "  </tbody>\n",
       "</table>\n",
       "<p>75000 rows × 2 columns</p>\n",
       "</div>"
      ],
      "text/plain": [
       "         0                                                  5\n",
       "582113   0  iPod Touch OS 3 upgrade doesnt available in In...\n",
       "556953   0   No I just checked as to its whereabouts and i...\n",
       "172345   0                      when do the stars come out?? \n",
       "36051    0                                       Ugh. Monday \n",
       "1460585  1   Sounds beautiful!  Im just getting up.. so fa...\n",
       "...     ..                                                ...\n",
       "474425   0  good mornin twitter peps. oh, how i dread mond...\n",
       "1093122  1  Im officially stating that rage sucks my butth...\n",
       "323289   0   no  i couldnt even go to youth group that night \n",
       "296209   0                               nope, it didnt work \n",
       "135036   0  hui, twittercounter.com ist down  Hoffe, die s...\n",
       "\n",
       "[75000 rows x 2 columns]"
      ]
     },
     "execution_count": 13,
     "metadata": {},
     "output_type": "execute_result"
    }
   ],
   "source": [
    "import re\n",
    "regexMap={r\"<[\\w'/'\\s]*>\": \"\",r\"[\\'\\\"\\-]+\": \"\",r\"@[\\w]+\":\"\",r\"http\\S+\" : \"\"}\n",
    "def preprocess(datainput):\n",
    "    t=datainput\n",
    "    for regx in regexMap.keys():\n",
    "        t = re.sub(regx, regexMap[regx], t)\n",
    "    return t\n",
    "\n",
    "def labelFilter(label):\n",
    "  if label == 4:\n",
    "    return 1\n",
    "  return label\n",
    "\n",
    "twitter=twitter[[0,5]]\n",
    "twitter[5]=twitter[5].apply(preprocess)\n",
    "twitter[0] = twitter[0].apply(labelFilter)\n",
    "twitter"
   ]
  },
  {
   "cell_type": "code",
   "execution_count": 14,
   "metadata": {
    "colab": {
     "base_uri": "https://localhost:8080/"
    },
    "id": "CVw7UunTyl38",
    "outputId": "66f80ddd-d44c-4108-9d43-e83aa742bf07"
   },
   "outputs": [],
   "source": [
    "#!pip install tensorflow_text==2.5.0.\n",
    "import tensorflow as tf\n",
    "import tensorflow.keras as keras\n",
    "import tensorflow_hub as hub\n",
    "import tensorflow_text as text"
   ]
  },
  {
   "cell_type": "code",
   "execution_count": 15,
   "metadata": {
    "colab": {
     "base_uri": "https://localhost:8080/"
    },
    "id": "hdkVHVZj8ItP",
    "outputId": "bcfbec2a-2b81-4563-d7dd-d40e2e830582"
   },
   "outputs": [
    {
     "data": {
      "text/plain": [
       "<tf.Tensor: shape=(2, 768), dtype=float32, numpy=\n",
       "array([[-9.1058314e-01, -3.5070512e-01, -3.2318389e-01, ...,\n",
       "        -4.5119785e-05, -7.1246189e-01,  9.1118807e-01],\n",
       "       [-8.1203640e-01, -2.2017553e-01,  3.5842079e-01, ...,\n",
       "         4.2030039e-01, -5.8162069e-01,  8.2115525e-01]], dtype=float32)>"
      ]
     },
     "execution_count": 15,
     "metadata": {},
     "output_type": "execute_result"
    }
   ],
   "source": [
    "bert_preprocess = hub.KerasLayer(\"https://tfhub.dev/tensorflow/bert_en_uncased_preprocess/3\")\n",
    "bert_encoder = hub.KerasLayer(\"https://tfhub.dev/tensorflow/bert_en_uncased_L-12_H-768_A-12/4\")\n",
    "\n",
    "sentences = [\"I love you\", \"I hate you\"]\n",
    "preprocessed_text = bert_preprocess(sentences)\n",
    "bert_encoder(preprocessed_text)[\"pooled_output\"]"
   ]
  },
  {
   "cell_type": "code",
   "execution_count": 16,
   "metadata": {
    "id": "gg2_G73yydI5"
   },
   "outputs": [],
   "source": [
    "data, labels = twitter[5], twitter[0]"
   ]
  },
  {
   "cell_type": "code",
   "execution_count": 17,
   "metadata": {
    "colab": {
     "base_uri": "https://localhost:8080/"
    },
    "id": "vxizb4h--yOd",
    "outputId": "2d01dbf7-e048-4fff-e056-252024b0a788"
   },
   "outputs": [
    {
     "name": "stdout",
     "output_type": "stream",
     "text": [
      "Model: \"model_2\"\n",
      "__________________________________________________________________________________________________\n",
      "Layer (type)                    Output Shape         Param #     Connected to                     \n",
      "==================================================================================================\n",
      "input_3 (InputLayer)            [(None,)]            0                                            \n",
      "__________________________________________________________________________________________________\n",
      "keras_layer_2 (KerasLayer)      {'input_type_ids': ( 0           input_3[0][0]                    \n",
      "__________________________________________________________________________________________________\n",
      "keras_layer_3 (KerasLayer)      {'pooled_output': (N 109482241   keras_layer_2[0][0]              \n",
      "                                                                 keras_layer_2[0][1]              \n",
      "                                                                 keras_layer_2[0][2]              \n",
      "__________________________________________________________________________________________________\n",
      "dense_2 (Dense)                 (None, 1)            769         keras_layer_3[0][13]             \n",
      "==================================================================================================\n",
      "Total params: 109,483,010\n",
      "Trainable params: 769\n",
      "Non-trainable params: 109,482,241\n",
      "__________________________________________________________________________________________________\n",
      "Epoch 1/10\n",
      "2344/2344 [==============================] - 289s 121ms/step - loss: 0.6048 - accuracy: 0.6789\n",
      "Epoch 2/10\n",
      "2344/2344 [==============================] - 282s 120ms/step - loss: 0.5516 - accuracy: 0.7243\n",
      "Epoch 3/10\n",
      "2344/2344 [==============================] - 281s 120ms/step - loss: 0.5329 - accuracy: 0.7355\n",
      "Epoch 4/10\n",
      "2344/2344 [==============================] - 279s 119ms/step - loss: 0.5238 - accuracy: 0.7426\n",
      "Epoch 5/10\n",
      "2344/2344 [==============================] - 280s 119ms/step - loss: 0.5170 - accuracy: 0.7477\n",
      "Epoch 6/10\n",
      "2344/2344 [==============================] - 281s 120ms/step - loss: 0.5133 - accuracy: 0.7492\n",
      "Epoch 7/10\n",
      "2344/2344 [==============================] - 281s 120ms/step - loss: 0.5105 - accuracy: 0.7511\n",
      "Epoch 8/10\n",
      "2344/2344 [==============================] - 279s 119ms/step - loss: 0.5069 - accuracy: 0.7535\n",
      "Epoch 9/10\n",
      "2344/2344 [==============================] - 278s 119ms/step - loss: 0.5050 - accuracy: 0.7551\n",
      "Epoch 10/10\n",
      "2344/2344 [==============================] - 279s 119ms/step - loss: 0.5033 - accuracy: 0.7556\n"
     ]
    },
    {
     "data": {
      "text/plain": [
       "<tensorflow.python.keras.callbacks.History at 0x2aca4366b400>"
      ]
     },
     "execution_count": 17,
     "metadata": {},
     "output_type": "execute_result"
    }
   ],
   "source": [
    "text_input = keras.layers.Input(shape=(), dtype=tf.string)\n",
    "preprocessed_text = bert_preprocess(text_input)\n",
    "outputs = bert_encoder(preprocessed_text)\n",
    "\n",
    "dense = keras.layers.Dense(1, activation='sigmoid')(outputs[\"pooled_output\"])\n",
    "\n",
    "model = keras.Model(inputs=[text_input], outputs=[dense])\n",
    "model.summary()\n",
    "model.compile(optimizer='adam', loss = 'binary_crossentropy', metrics = ['accuracy'])\n",
    "model.fit(data, labels, epochs=10)"
   ]
  },
  {
   "cell_type": "code",
   "execution_count": 18,
   "metadata": {},
   "outputs": [],
   "source": [
    "test = pd.read_csv(\"testdata.manual.2009.06.14.csv\", encoding=\"latin1\", header=None)"
   ]
  },
  {
   "cell_type": "code",
   "execution_count": 19,
   "metadata": {},
   "outputs": [],
   "source": [
    "test = test[[0,5]]\n",
    "test[5]=test[5].apply(preprocess)\n",
    "test[0] = test[0].apply(labelFilter)\n",
    "test = test[test[0] != 2]\n",
    "\n",
    "test_data, test_labels = test[5], test[0]"
   ]
  },
  {
   "cell_type": "code",
<<<<<<< HEAD
   "execution_count": 20,
=======
   "execution_count": null,
>>>>>>> 5047ac637657b84e360bb1028a64273a2160bb90
   "metadata": {},
   "outputs": [],
   "source": [
    "import numpy as np\n",
    "y_pred = np.where(model.predict(test_data) > .5, 1, 0)"
   ]
  },
  {
   "cell_type": "code",
   "execution_count": 21,
   "metadata": {},
   "outputs": [
    {
     "name": "stdout",
     "output_type": "stream",
     "text": [
      "              precision    recall  f1-score   support\n",
      "\n",
      "           0       0.81      0.90      0.85       177\n",
      "           1       0.89      0.79      0.84       182\n",
      "\n",
      "    accuracy                           0.84       359\n",
      "   macro avg       0.85      0.84      0.84       359\n",
      "weighted avg       0.85      0.84      0.84       359\n",
      "\n"
     ]
    }
   ],
   "source": [
    "from sklearn.metrics import classification_report\n",
    "print(classification_report(test_labels, y_pred))\n"
   ]
  },
  {
   "cell_type": "code",
   "execution_count": null,
   "metadata": {},
   "outputs": [],
   "source": []
  }
 ],
 "metadata": {
  "accelerator": "GPU",
  "colab": {
   "collapsed_sections": [],
   "name": "640_tensorflow.ipynb",
   "provenance": []
  },
  "kernelspec": {
   "display_name": "Python 3",
   "language": "python",
   "name": "python3"
  },
  "language_info": {
   "codemirror_mode": {
    "name": "ipython",
    "version": 3
   },
   "file_extension": ".py",
   "mimetype": "text/x-python",
   "name": "python",
   "nbconvert_exporter": "python",
   "pygments_lexer": "ipython3",
   "version": "3.8.10"
  }
 },
 "nbformat": 4,
 "nbformat_minor": 4
}
